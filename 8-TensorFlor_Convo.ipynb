{
 "cells": [
  {
   "cell_type": "markdown",
   "metadata": {},
   "source": [
    "# NN using tensor flow"
   ]
  },
  {
   "cell_type": "code",
   "execution_count": 1,
   "metadata": {},
   "outputs": [],
   "source": [
    "import tensorflow as tf\n",
    "from tensorflow.keras.preprocessing.image import ImageDataGenerator\n",
    "from tensorflow.keras.optimizers import RMSprop\n",
    "import matplotlib.pyplot as plt"
   ]
  },
  {
   "cell_type": "code",
   "execution_count": 11,
   "metadata": {},
   "outputs": [
    {
     "name": "stdout",
     "output_type": "stream",
     "text": [
      "Found 1296 images belonging to 2 classes.\n",
      "Found 322 images belonging to 2 classes.\n",
      "Epoch 1/20\n",
      "1296/1296 [==============================] - 246s 190ms/step - loss: 2.2652 - acc: 0.4174 - mse: 2.2652 - val_loss: 0.5839 - val_acc: 0.4161 - val_mse: 0.5839\n",
      "Epoch 2/20\n",
      "1296/1296 [==============================] - 260s 201ms/step - loss: 0.5833 - acc: 0.4167 - mse: 0.5833 - val_loss: 0.5839 - val_acc: 0.4161 - val_mse: 0.5839\n",
      "Epoch 3/20\n",
      "1296/1296 [==============================] - 240s 185ms/step - loss: 0.5833 - acc: 0.4167 - mse: 0.5833 - val_loss: 0.5839 - val_acc: 0.4161 - val_mse: 0.5839\n",
      "Epoch 4/20\n",
      "1296/1296 [==============================] - 241s 186ms/step - loss: 0.5833 - acc: 0.4167 - mse: 0.5833 - val_loss: 0.5839 - val_acc: 0.4161 - val_mse: 0.5839\n",
      "Epoch 5/20\n",
      "1296/1296 [==============================] - 240s 185ms/step - loss: 0.5833 - acc: 0.4167 - mse: 0.5833 - val_loss: 0.5839 - val_acc: 0.4161 - val_mse: 0.5839\n",
      "Epoch 6/20\n",
      "1296/1296 [==============================] - 239s 185ms/step - loss: 0.5833 - acc: 0.4167 - mse: 0.5833 - val_loss: 0.5839 - val_acc: 0.4161 - val_mse: 0.5839\n",
      "Epoch 7/20\n",
      "1296/1296 [==============================] - 239s 185ms/step - loss: 0.5833 - acc: 0.4167 - mse: 0.5833 - val_loss: 0.5839 - val_acc: 0.4161 - val_mse: 0.5839\n",
      "Epoch 8/20\n",
      "1296/1296 [==============================] - 242s 186ms/step - loss: 0.5833 - acc: 0.4167 - mse: 0.5833 - val_loss: 0.5839 - val_acc: 0.4161 - val_mse: 0.5839\n",
      "Epoch 9/20\n",
      "1296/1296 [==============================] - 242s 187ms/step - loss: 0.5833 - acc: 0.4167 - mse: 0.5833 - val_loss: 0.5839 - val_acc: 0.4161 - val_mse: 0.5839\n",
      "Epoch 10/20\n",
      "1296/1296 [==============================] - 243s 188ms/step - loss: 0.5833 - acc: 0.4167 - mse: 0.5833 - val_loss: 0.5839 - val_acc: 0.4161 - val_mse: 0.5839\n",
      "Epoch 11/20\n",
      "1296/1296 [==============================] - 242s 187ms/step - loss: 0.5833 - acc: 0.4167 - mse: 0.5833 - val_loss: 0.5839 - val_acc: 0.4161 - val_mse: 0.5839\n",
      "Epoch 12/20\n",
      "1296/1296 [==============================] - 244s 189ms/step - loss: 0.5833 - acc: 0.4167 - mse: 0.5833 - val_loss: 0.5839 - val_acc: 0.4161 - val_mse: 0.5839\n",
      "Epoch 13/20\n",
      "1296/1296 [==============================] - 244s 188ms/step - loss: 0.5833 - acc: 0.4167 - mse: 0.5833 - val_loss: 0.5839 - val_acc: 0.4161 - val_mse: 0.5839\n",
      "Epoch 14/20\n",
      "1296/1296 [==============================] - 242s 186ms/step - loss: 0.5833 - acc: 0.4167 - mse: 0.5833 - val_loss: 0.5839 - val_acc: 0.4161 - val_mse: 0.5839\n",
      "Epoch 15/20\n",
      "1296/1296 [==============================] - 241s 186ms/step - loss: 0.5833 - acc: 0.4167 - mse: 0.5833 - val_loss: 0.5839 - val_acc: 0.4161 - val_mse: 0.5839\n",
      "Epoch 16/20\n",
      "1296/1296 [==============================] - 242s 187ms/step - loss: 0.5833 - acc: 0.4167 - mse: 0.5833 - val_loss: 0.5839 - val_acc: 0.4161 - val_mse: 0.5839\n",
      "Epoch 17/20\n",
      "1296/1296 [==============================] - 242s 187ms/step - loss: 0.5833 - acc: 0.4167 - mse: 0.5833 - val_loss: 0.5839 - val_acc: 0.4161 - val_mse: 0.5839cc: 0.4172 - mse: 0.\n",
      "Epoch 18/20\n",
      "1296/1296 [==============================] - 245s 189ms/step - loss: 0.5833 - acc: 0.4167 - mse: 0.5833 - val_loss: 0.5839 - val_acc: 0.4161 - val_mse: 0.5839\n",
      "Epoch 19/20\n",
      "1296/1296 [==============================] - 243s 187ms/step - loss: 0.5833 - acc: 0.4167 - mse: 0.5833 - val_loss: 0.5839 - val_acc: 0.4161 - val_mse: 0.5839\n",
      "Epoch 20/20\n",
      "1296/1296 [==============================] - 242s 187ms/step - loss: 0.5833 - acc: 0.4167 - mse: 0.5833 - val_loss: 0.5839 - val_acc: 0.4161 - val_mse: 0.5839\n"
     ]
    }
   ],
   "source": [
    "batch_size = 1\n",
    "train_datagen = ImageDataGenerator(\n",
    "    rescale=1/255, \n",
    "    validation_split=0.2,\n",
    "    shear_range=0.2,\n",
    "    zoom_range=0.2,\n",
    "    horizontal_flip=True,\n",
    ")\n",
    "\n",
    "train_generator = train_datagen.flow_from_directory(\n",
    "    './images', \n",
    "    target_size=(128, 128),\n",
    "    batch_size=batch_size,\n",
    "    class_mode='binary',\n",
    "    seed=1,\n",
    "    subset='training'\n",
    "    )\n",
    "\n",
    "test_generator = train_datagen.flow_from_directory(\n",
    "    './images', \n",
    "    target_size=(128, 128),\n",
    "    batch_size=batch_size,\n",
    "    class_mode='binary',\n",
    "    seed=1,\n",
    "    subset='validation'\n",
    "    )\n",
    "\n",
    "model = tf.keras.models.Sequential([\n",
    "    tf.keras.layers.Conv2D(32, (3, 3), activation='relu', input_shape=(128, 128, 3)),\n",
    "    tf.keras.layers.Flatten(),\n",
    "    tf.keras.layers.Dense(64, activation='relu'),\n",
    "    tf.keras.layers.Dense(1, activation='relu')\n",
    "])\n",
    "\n",
    "model.compile(\n",
    "    optimizer=tf.keras.optimizers.Adam(learning_rate=0.001),\n",
    "    loss=tf.keras.losses.mse,\n",
    "    metrics=['acc', 'mse'],\n",
    ")\n",
    "\n",
    "history = model.fit_generator(\n",
    "    train_generator,\n",
    "    validation_data=test_generator,\n",
    "    steps_per_epoch=train_generator.samples // batch_size,\n",
    "    validation_steps=test_generator.samples // batch_size,\n",
    "    epochs=20,\n",
    "    verbose=1,\n",
    ")"
   ]
  },
  {
   "cell_type": "code",
   "execution_count": null,
   "metadata": {},
   "outputs": [],
   "source": [
    "plt.figure(figsize=(7,4))\n",
    "plt.plot([i+1 for i in range(n_epochs)],history.history['acc'])\n",
    "plt.title(\"Training accuracy with epochs\\n\")\n",
    "plt.xlabel(\"Training epochs\")\n",
    "plt.ylabel(\"Training accuracy\")\n",
    "plt.show()"
   ]
  },
  {
   "cell_type": "code",
   "execution_count": null,
   "metadata": {},
   "outputs": [],
   "source": [
    "plt.figure(figsize=(7,4))\n",
    "plt.plot([i+1 for i in range(n_epochs)],history.history['loss'])\n",
    "plt.title(\"Training loss with epochs\\n\")\n",
    "plt.xlabel(\"Training epochs\")\n",
    "plt.ylabel(\"Training loss\")\n",
    "plt.show()"
   ]
  }
 ],
 "metadata": {
  "kernelspec": {
   "display_name": "Python 3",
   "language": "python",
   "name": "python3"
  },
  "language_info": {
   "codemirror_mode": {
    "name": "ipython",
    "version": 3
   },
   "file_extension": ".py",
   "mimetype": "text/x-python",
   "name": "python",
   "nbconvert_exporter": "python",
   "pygments_lexer": "ipython3",
   "version": "3.7.4"
  }
 },
 "nbformat": 4,
 "nbformat_minor": 4
}
