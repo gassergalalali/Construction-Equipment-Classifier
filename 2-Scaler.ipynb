{
 "cells": [
  {
   "cell_type": "code",
   "execution_count": 1,
   "metadata": {},
   "outputs": [],
   "source": [
    "import os\n",
    "import numpy as np\n",
    "import matplotlib.pyplot as plt\n",
    "import cv2"
   ]
  },
  {
   "cell_type": "code",
   "execution_count": 8,
   "metadata": {},
   "outputs": [
    {
     "name": "stdout",
     "output_type": "stream",
     "text": [
      "Found 1756 images.\n"
     ]
    }
   ],
   "source": [
    "images_path = \"images\"\n",
    "image_paths = []\n",
    "for folder_path, dirname, filenames in os.walk(\"images\"):\n",
    "    if filenames:\n",
    "        for filename in filenames:\n",
    "            filepath = os.path.abspath(os.path.join(folder_path, filename))\n",
    "            image_paths.append(filepath)\n",
    "print(f\"Found {len(image_paths)} images.\")"
   ]
  },
  {
   "cell_type": "code",
   "execution_count": 9,
   "metadata": {},
   "outputs": [
    {
     "name": "stdout",
     "output_type": "stream",
     "text": [
      "OpenCV(4.2.0) C:\\projects\\opencv-python\\opencv\\modules\\imgproc\\src\\resize.cpp:4045: error: (-215:Assertion failed) !ssize.empty() in function 'cv::resize'\n",
      "\n",
      "Skipping C:\\Users\\gasse\\Documents\\Construction Equipment\\images\\Caterpillar\\www.cat.com.ico\n",
      "OpenCV(4.2.0) C:\\projects\\opencv-python\\opencv\\modules\\imgproc\\src\\resize.cpp:4045: error: (-215:Assertion failed) !ssize.empty() in function 'cv::resize'\n",
      "\n",
      "Skipping C:\\Users\\gasse\\Documents\\Construction Equipment\\images\\Caterpillar\\www.caterpillar.com.ico\n",
      "OpenCV(4.2.0) C:\\projects\\opencv-python\\opencv\\modules\\imgproc\\src\\resize.cpp:4045: error: (-215:Assertion failed) !ssize.empty() in function 'cv::resize'\n",
      "\n",
      "Skipping C:\\Users\\gasse\\Documents\\Construction Equipment\\images\\Caterpillar\\www.equipmenttrader.com.ico\n",
      "OpenCV(4.2.0) C:\\projects\\opencv-python\\opencv\\modules\\imgproc\\src\\resize.cpp:4045: error: (-215:Assertion failed) !ssize.empty() in function 'cv::resize'\n",
      "\n",
      "Skipping C:\\Users\\gasse\\Documents\\Construction Equipment\\images\\Caterpillar\\www.rockanddirt.com.ico\n"
     ]
    }
   ],
   "source": [
    "def process_image(image_path):\n",
    "    image = cv2.imread(image_path)\n",
    "    image = cv2.resize(image, (100, 100))\n",
    "    image = np.mean(image, axis=2)\n",
    "    image = image / np.max(image)\n",
    "    image = 1 - image\n",
    "    data = image.flatten()\n",
    "    return data\n",
    "\n",
    "X = []\n",
    "y = []\n",
    "for image_path in image_paths:\n",
    "    try:\n",
    "        folder_name = os.path.basename(os.path.dirname(image_path))\n",
    "        X.append(process_image(image_path))\n",
    "        if folder_name in [\"Construction Equipment\", \"Caterpillar\"]:\n",
    "            y.append(1)\n",
    "        else:\n",
    "            y.append(0)\n",
    "\n",
    "    except Exception as e:\n",
    "        print(e)\n",
    "        print(f\"Skipping {image_path}\")"
   ]
  },
  {
   "cell_type": "code",
   "execution_count": 12,
   "metadata": {},
   "outputs": [],
   "source": [
    "X = np.array(X)\n",
    "y = np.array(y)"
   ]
  },
  {
   "cell_type": "code",
   "execution_count": 13,
   "metadata": {},
   "outputs": [
    {
     "name": "stdout",
     "output_type": "stream",
     "text": [
      "1053\n"
     ]
    }
   ],
   "source": [
    "print(np.sum(y))"
   ]
  },
  {
   "cell_type": "code",
   "execution_count": 11,
   "metadata": {},
   "outputs": [],
   "source": [
    "np.save(\"X\", X)\n",
    "np.save(\"y\", y)"
   ]
  }
 ],
 "metadata": {
  "kernelspec": {
   "display_name": "Python 3",
   "language": "python",
   "name": "python3"
  },
  "language_info": {
   "codemirror_mode": {
    "name": "ipython",
    "version": 3
   },
   "file_extension": ".py",
   "mimetype": "text/x-python",
   "name": "python",
   "nbconvert_exporter": "python",
   "pygments_lexer": "ipython3",
   "version": "3.8.1"
  }
 },
 "nbformat": 4,
 "nbformat_minor": 4
}
