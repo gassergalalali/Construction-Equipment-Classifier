{
 "cells": [
  {
   "cell_type": "markdown",
   "metadata": {},
   "source": [
    "# Data Preparation"
   ]
  },
  {
   "cell_type": "markdown",
   "metadata": {},
   "source": [
    "Scales the images to a certain size"
   ]
  },
  {
   "cell_type": "code",
   "execution_count": 1,
   "metadata": {},
   "outputs": [
    {
     "name": "stdout",
     "output_type": "stream",
     "text": [
      "Found 1679 images.\n",
      "OpenCV(4.2.0) C:\\projects\\opencv-python\\opencv\\modules\\imgproc\\src\\resize.cpp:4045: error: (-215:Assertion failed) !ssize.empty() in function 'cv::resize'\n",
      "\n",
      "Skipping C:\\Users\\ggah4g\\Documents\\Construction-Equipment-Classifier\\images\\1\\io (4).ico\n",
      "OpenCV(4.2.0) C:\\projects\\opencv-python\\opencv\\modules\\imgproc\\src\\resize.cpp:4045: error: (-215:Assertion failed) !ssize.empty() in function 'cv::resize'\n",
      "\n",
      "Skipping C:\\Users\\ggah4g\\Documents\\Construction-Equipment-Classifier\\images\\1\\io (5).ico\n",
      "979 Images are ready.\n",
      "Dimension of X is (1677, 30000)\n",
      "Dimension of X is (1677,)\n"
     ]
    }
   ],
   "source": [
    "import os\n",
    "import numpy as np\n",
    "import matplotlib.pyplot as plt\n",
    "import cv2\n",
    "import sklearn.preprocessing\n",
    "\n",
    "images_path = \"images\"\n",
    "image_paths = []\n",
    "for folder_path, dirname, filenames in os.walk(\"images\"):\n",
    "    if filenames:\n",
    "        for filename in filenames:\n",
    "            filepath = os.path.abspath(os.path.join(folder_path, filename))\n",
    "            image_paths.append(filepath)\n",
    "print(f\"Found {len(image_paths)} images.\")\n",
    "\n",
    "X = []\n",
    "y = []\n",
    "for image_path in image_paths:\n",
    "    try:\n",
    "        folder_name = os.path.basename(os.path.dirname(image_path))\n",
    "        image = cv2.imread(image_path)\n",
    "        image = cv2.resize(image, (100, 100))\n",
    "        image = image / 255\n",
    "        image = image.flatten()\n",
    "        X.append(image)\n",
    "        if folder_name in [\"1\"]:\n",
    "            y.append(1)\n",
    "        else:\n",
    "            y.append(0)\n",
    "\n",
    "    except Exception as e:\n",
    "        print(e)\n",
    "        print(f\"Skipping {image_path}\")\n",
    "\n",
    "X = np.array(X)\n",
    "y = np.array(y)\n",
    "\n",
    "print(f\"{np.sum(y)} Images are ready.\")\n",
    "print(f\"Dimension of X is {X.shape}\")\n",
    "print(f\"Dimension of X is {y.shape}\")\n",
    "\n",
    "# Saving\n",
    "np.save(\"X\", X)\n",
    "np.save(\"y\", y)"
   ]
  }
 ],
 "metadata": {
  "kernelspec": {
   "display_name": "Python 3",
   "language": "python",
   "name": "python3"
  },
  "language_info": {
   "codemirror_mode": {
    "name": "ipython",
    "version": 3
   },
   "file_extension": ".py",
   "mimetype": "text/x-python",
   "name": "python",
   "nbconvert_exporter": "python",
   "pygments_lexer": "ipython3",
   "version": "3.7.4"
  }
 },
 "nbformat": 4,
 "nbformat_minor": 4
}
