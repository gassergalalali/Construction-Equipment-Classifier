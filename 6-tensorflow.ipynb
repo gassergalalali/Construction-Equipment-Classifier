{
 "cells": [
  {
   "cell_type": "markdown",
   "metadata": {},
   "source": [
    "# NN using tensor flow"
   ]
  },
  {
   "cell_type": "code",
   "execution_count": 1,
   "metadata": {},
   "outputs": [],
   "source": [
    "import tensorflow as tf\n",
    "from tensorflow.keras.preprocessing.image import ImageDataGenerator\n",
    "from tensorflow.keras.optimizers import RMSprop\n",
    "import matplotlib.pyplot as plt"
   ]
  },
  {
   "cell_type": "code",
   "execution_count": 2,
   "metadata": {},
   "outputs": [
    {
     "name": "stdout",
     "output_type": "stream",
     "text": [
      "Found 1676 images belonging to 2 classes.\n"
     ]
    }
   ],
   "source": [
    "batch_size = 200\n",
    "# All images will be rescaled by 1./255\n",
    "train_datagen = ImageDataGenerator(rescale=1/255)\n",
    "# Flow training images in batches of 128 using train_datagen generator\n",
    "train_generator = train_datagen.flow_from_directory(\n",
    "    './images',  # This is the source directory for training images\n",
    "    target_size=(100, 100),  # All images will be resized to 200 x 200\n",
    "    batch_size=batch_size,\n",
    "    class_mode='binary',\n",
    "    seed=1\n",
    "    )"
   ]
  },
  {
   "cell_type": "code",
   "execution_count": 4,
   "metadata": {},
   "outputs": [
    {
     "name": "stdout",
     "output_type": "stream",
     "text": [
      "Epoch 1/20\n",
      "9/8 [================================] - 859s 95s/step - loss: 0.4127 - acc: 0.5835 - mse: 0.4165 12:19 - loss: 0.4400 - acc: 0.5600 - mse: 0.4 - ETA: 6:27 - loss: 0.4237 - acc: 0.5763 - mse: \n",
      "Epoch 2/20\n",
      "9/8 [================================] - 178s 20s/step - loss: 0.4119 - acc: 0.5835 - mse: 0.4165\n",
      "Epoch 3/20\n",
      "9/8 [================================] - 172s 19s/step - loss: 0.4110 - acc: 0.5835 - mse: 0.4165\n",
      "Epoch 4/20\n",
      "9/8 [================================] - 157s 17s/step - loss: 0.4102 - acc: 0.5835 - mse: 0.4165\n",
      "Epoch 5/20\n",
      "9/8 [================================] - 172s 19s/step - loss: 0.4176 - acc: 0.5835 - mse: 0.4165\n",
      "Epoch 6/20\n",
      "9/8 [================================] - 171s 19s/step - loss: 0.4094 - acc: 0.5835 - mse: 0.4165\n",
      "Epoch 7/20\n",
      "9/8 [================================] - 171s 19s/step - loss: 0.4135 - acc: 0.5835 - mse: 0.4165\n",
      "Epoch 8/20\n",
      "9/8 [================================] - 167s 19s/step - loss: 0.4151 - acc: 0.5835 - mse: 0.4165\n",
      "Epoch 9/20\n",
      "9/8 [================================] - 173s 19s/step - loss: 0.4176 - acc: 0.5835 - mse: 0.4165\n",
      "Epoch 10/20\n",
      "9/8 [================================] - 174s 19s/step - loss: 0.4159 - acc: 0.5835 - mse: 0.4165\n",
      "Epoch 11/20\n",
      "9/8 [================================] - 175s 19s/step - loss: 0.4143 - acc: 0.5835 - mse: 0.4165\n",
      "Epoch 12/20\n",
      "9/8 [================================] - 174s 19s/step - loss: 0.4225 - acc: 0.5835 - mse: 0.4165\n",
      "Epoch 13/20\n",
      "9/8 [================================] - 164s 18s/step - loss: 0.4184 - acc: 0.5835 - mse: 0.4165\n",
      "Epoch 14/20\n",
      "9/8 [================================] - 168s 19s/step - loss: 0.4176 - acc: 0.5835 - mse: 0.4165\n",
      "Epoch 15/20\n",
      "9/8 [================================] - 173s 19s/step - loss: 0.4192 - acc: 0.5835 - mse: 0.4165\n",
      "Epoch 16/20\n",
      "9/8 [================================] - 171s 19s/step - loss: 0.4192 - acc: 0.5835 - mse: 0.4165\n",
      "Epoch 17/20\n",
      "9/8 [================================] - 92s 10s/step - loss: 0.4135 - acc: 0.5835 - mse: 0.4165\n",
      "Epoch 18/20\n",
      "9/8 [================================] - 88s 10s/step - loss: 0.4168 - acc: 0.5835 - mse: 0.4165\n",
      "Epoch 19/20\n",
      "9/8 [================================] - 79s 9s/step - loss: 0.4184 - acc: 0.5835 - mse: 0.4165\n",
      "Epoch 20/20\n",
      "9/8 [================================] - 80s 9s/step - loss: 0.4200 - acc: 0.5835 - mse: 0.4165\n"
     ]
    }
   ],
   "source": [
    "model = tf.keras.models.Sequential([\n",
    "    tf.keras.layers.Conv2D(128, (3,3), activation='relu', input_shape=(100, 100, 3)),\n",
    "    tf.keras.layers.MaxPooling2D(2, 2),\n",
    "    tf.keras.layers.Conv2D(128, (3,3), activation='relu'),\n",
    "    tf.keras.layers.MaxPooling2D(2,2),\n",
    "    tf.keras.layers.Conv2D(128, (3,3), activation='relu'),\n",
    "    tf.keras.layers.MaxPooling2D(2,2),\n",
    "    tf.keras.layers.Flatten(),\n",
    "    tf.keras.layers.Dense(64, activation='relu'),\n",
    "    tf.keras.layers.Dense(64, activation='relu'),\n",
    "    tf.keras.layers.Dense(64, activation='relu'),\n",
    "    tf.keras.layers.Dense(1, activation='softmax')\n",
    "])\n",
    "\n",
    "model.compile(\n",
    "    optimizer=tf.keras.optimizers.Adam(learning_rate=1e-5),\n",
    "    loss=\"mse\",\n",
    "    metrics=['acc', 'mse'],\n",
    ")\n",
    "\n",
    "history = model.fit_generator(\n",
    "    train_generator,\n",
    "    steps_per_epoch=len(train_generator.filenames) / train_generator.batch_size,\n",
    "    epochs=20,\n",
    "    verbose=1\n",
    ")"
   ]
  },
  {
   "cell_type": "code",
   "execution_count": null,
   "metadata": {},
   "outputs": [],
   "source": [
    "plt.figure(figsize=(7,4))\n",
    "plt.plot([i+1 for i in range(n_epochs)],history.history['acc'])\n",
    "plt.title(\"Training accuracy with epochs\\n\")\n",
    "plt.xlabel(\"Training epochs\")\n",
    "plt.ylabel(\"Training accuracy\")\n",
    "plt.show()"
   ]
  },
  {
   "cell_type": "code",
   "execution_count": null,
   "metadata": {},
   "outputs": [],
   "source": [
    "plt.figure(figsize=(7,4))\n",
    "plt.plot([i+1 for i in range(n_epochs)],history.history['loss'])\n",
    "plt.title(\"Training loss with epochs\\n\")\n",
    "plt.xlabel(\"Training epochs\")\n",
    "plt.ylabel(\"Training loss\")\n",
    "plt.show()"
   ]
  }
 ],
 "metadata": {
  "kernelspec": {
   "display_name": "Python 3",
   "language": "python",
   "name": "python3"
  },
  "language_info": {
   "codemirror_mode": {
    "name": "ipython",
    "version": 3
   },
   "file_extension": ".py",
   "mimetype": "text/x-python",
   "name": "python",
   "nbconvert_exporter": "python",
   "pygments_lexer": "ipython3",
   "version": "3.7.4"
  }
 },
 "nbformat": 4,
 "nbformat_minor": 4
}
