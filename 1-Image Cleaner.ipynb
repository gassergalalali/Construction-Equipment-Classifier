{
 "cells": [
  {
   "cell_type": "code",
   "execution_count": 1,
   "metadata": {},
   "outputs": [],
   "source": [
    "import os\n",
    "import sys\n",
    "import hashlib"
   ]
  },
  {
   "cell_type": "code",
   "execution_count": 16,
   "metadata": {},
   "outputs": [
    {
     "name": "stdout",
     "output_type": "stream",
     "text": [
      "C:\\Users\\gasse\\Documents\\Construction Equipment\\images\\Construction Equipment\n",
      "Found 357 images.\n",
      "Found 0 repeated images.\n",
      "Deleting...\n",
      "C:\\Users\\gasse\\Documents\\Construction Equipment\\images\\Empty Site\n",
      "Found 389 images.\n",
      "Found 0 repeated images.\n",
      "Deleting...\n",
      "C:\\Users\\gasse\\Documents\\Construction Equipment\\images\\Houses\n",
      "Found 205 images.\n",
      "Found 0 repeated images.\n",
      "Deleting...\n",
      "C:\\Users\\gasse\\Documents\\Construction Equipment\\images\\People\n",
      "Found 105 images.\n",
      "Found 0 repeated images.\n",
      "Deleting...\n"
     ]
    }
   ],
   "source": [
    "images_folder_path = os.path.abspath('images')\n",
    "\n",
    "for class_folder_path in [os.path.join(images_folder_path, f) for f in os.listdir(images_folder_path)]:\n",
    "    print(class_folder_path)\n",
    "    images = [os.path.join(class_folder_path, f) for f in os.listdir(class_folder_path)]\n",
    "    repeated = []\n",
    "    print(f\"Found {len(images)} images.\")\n",
    "    for image1_path in images:\n",
    "        if os.path.exists(image1_path):\n",
    "            with open(image1_path, 'rb') as image1_data:\n",
    "                hash1 = hashlib.md5()\n",
    "                hash1.update(image1_data.read())\n",
    "                for image2_path in images:\n",
    "                    if image2_path != image1_path:\n",
    "                        if os.path.exists(image2_path):\n",
    "                            with open(image2_path, 'rb') as image2_data:\n",
    "                                hash2 = hashlib.md5()\n",
    "                                hash2.update(image2_data.read())\n",
    "                                if hash1.hexdigest() == hash2.hexdigest():\n",
    "                                    print(f\"Found repeated image {image2_path}.\")\n",
    "                                    repeated.append(image2_path)\n",
    "    print(f\"Found {len(repeated)} repeated images.\")\n",
    "    for image_to_delete in repeated:\n",
    "        print(f\"Deleting {image_to_delete}\")\n",
    "        os.remove(image_to_delete)"
   ]
  }
 ],
 "metadata": {
  "kernelspec": {
   "display_name": "Python 3",
   "language": "python",
   "name": "python3"
  },
  "language_info": {
   "codemirror_mode": {
    "name": "ipython",
    "version": 3
   },
   "file_extension": ".py",
   "mimetype": "text/x-python",
   "name": "python",
   "nbconvert_exporter": "python",
   "pygments_lexer": "ipython3",
   "version": "3.8.1"
  }
 },
 "nbformat": 4,
 "nbformat_minor": 4
}
